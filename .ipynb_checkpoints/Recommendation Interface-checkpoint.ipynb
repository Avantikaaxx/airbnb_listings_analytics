{
 "cells": [
  {
   "cell_type": "markdown",
   "metadata": {},
   "source": [
    "# Recommendation Interface"
   ]
  },
  {
   "cell_type": "markdown",
   "metadata": {},
   "source": [
    "For this part, the major function that we want to realize is to help users to find the best listing in a certain area that fits their expectation in terms of price.To better optimize the search engine, we picked up three major elements: landmark (the name of landmark that users want to live nearby), radius (the maximum distance that users could accept) and price. Based on these three parameters, we want to get our search results and rank by the price for the visualization."
   ]
  },
  {
   "cell_type": "markdown",
   "metadata": {},
   "source": [
    "To get search results based on above requirements, we need to figure it out through six steps. Firstly we need to get the latitude and longitude based on the name of landmark. We used Bing Map API to fulfill that."
   ]
  },
  {
   "cell_type": "markdown",
   "metadata": {},
   "source": [
    "Secondly, we calculate the distance between the landmark and each listing and compare them with the radius that users are offered, if the distance is smaller to the radius, we keep going for the next step to check whether the price of listing is in the price range. After meeting all the requirements, we get our original results. To make it much more reasonable, we ranked them by the price and show them through an “Airbnb Search” interface (Use Tkinter package in python to create that interface) for the visualization."
   ]
  },
  {
   "cell_type": "code",
   "execution_count": 6,
   "metadata": {},
   "outputs": [
    {
     "name": "stdout",
     "output_type": "stream",
     "text": [
      "Requirement already satisfied: tabulate in /opt/anaconda3/lib/python3.7/site-packages (0.8.6)\r\n"
     ]
    }
   ],
   "source": [
    "!pip install tabulate\n",
    "import numpy as np\n",
    "import pandas as pd\n",
    "import seaborn as sns\n",
    "import re\n",
    "from tabulate import tabulate"
   ]
  },
  {
   "cell_type": "code",
   "execution_count": null,
   "metadata": {},
   "outputs": [],
   "source": [
    "from tkinter import *\n",
    "\n",
    "#main window\n",
    "class MainWindow:\n",
    "    #get result function\n",
    "    def getresult(self):\n",
    "        import math\n",
    "        import requests\n",
    "        #read csv\n",
    "        filename = 'airbnb-listings.csv'\n",
    "        fields = ['ID', 'Name','Neighbourhood Group Cleansed','Room Type','Accommodates','Price','Latitude','Longitude']\n",
    "        dataor = pd.read_csv(filename,encoding='ISO-8859-1',usecols=fields)\n",
    "        listind=dataor.index.tolist()\n",
    "        \n",
    "        #create a new dataframe to save results\n",
    "        df1 = pd.DataFrame(columns=dataor.columns)\n",
    "        df1 = df1.fillna(0) # with 0s rather than NaNs\n",
    "        \n",
    "        \n",
    "        #use Bing Map API to get latitude and longitude\n",
    "        location=self.entry_loc.get()\n",
    "        apikey=\"Aj7asbFFhM7v42GOeWIpTlrhsWctXd2OUmF-dNDh8yNHcNesHUgEIvurcWVTpoJP\"\n",
    "        url=\"http://dev.virtualearth.net/REST/v1/Locations?q=%s&output=json&key=%s\" % (location,apikey)\n",
    "        response = requests.get(url).json()\n",
    "        lat,lng = response['resourceSets'][0]['resources'][0]['geocodePoints'][0]['coordinates'][0],response['resourceSets'][0]['resources'][0]['geocodePoints'][0]['coordinates'][1]\n",
    "        \n",
    "        #calculate distance\n",
    "        radius = 6371 # km\n",
    "        radius_filter=float(self.entry_rad.get())\n",
    "        rprice=float(self.entry_pri.get())\n",
    "        \n",
    "        for elem in listind:\n",
    "            lat2 = float(dataor.iloc[elem,3])\n",
    "            lng2= float(dataor.iloc[elem,4])\n",
    "\n",
    "            dlat = math.radians(lat2-lat)\n",
    "            dlon = math.radians(lng2-lng)\n",
    "            a = math.sin(dlat/2) * math.sin(dlat/2) + math.cos(math.radians(lat)) \\\n",
    "                * math.cos(math.radians(lat2)) * math.sin(dlon/2) * math.sin(dlon/2)\n",
    "            c = 2 * math.atan2(math.sqrt(a), math.sqrt(1-a))\n",
    "            d = radius * c\n",
    "    \n",
    "            dataor[\"distance\"]=d\n",
    "        \n",
    "            #select suitable listings and save them to df1\n",
    "            if d < radius_filter and rprice-20 < dataor.iloc[elem,7] < rprice+20:\n",
    "                df1=df1.append(dataor.iloc[elem])\n",
    "\n",
    "        \n",
    "        #sorted by Price\n",
    "        df1.sort_values(\"Price\",inplace=True)   \n",
    "        \n",
    "        #drop useless columns\n",
    "        df1=df1.drop([\"Latitude\",\"Longitude\"],axis=1)\n",
    "        df1.rename(columns = {'Neighbourhood Group Cleansed':'Neighbourhood'}, inplace = True)\n",
    "        \n",
    "        #visualization\n",
    "        table = tabulate(df1,headers='keys')\n",
    "        self.text.insert('end', table)  \n",
    "\n",
    "    \n",
    "    # GUI window commands\n",
    "    def __init__(self):\n",
    "        self.frame = Tk()\n",
    "        \n",
    "        #window title\n",
    "        self.frame.title('Airbnb Search')\n",
    "        \n",
    "        #window geometry\n",
    "        self.frame.geometry('1400x800')\n",
    "        \n",
    "        #add labels \n",
    "        self.label_loc = Label(self.frame,text = \"Location: \")\n",
    "        self.label_rad = Label(self.frame,text = \"Radius: \")\n",
    "        self.label_pri = Label(self.frame,text = \"Price: \")\n",
    "        \n",
    "        #add entry part\n",
    "        self.entry_loc = Entry(self.frame)\n",
    "        self.entry_rad = Entry(self.frame)\n",
    "        self.entry_pri = Entry(self.frame)\n",
    "        \n",
    "        #add text part\n",
    "        self.text = Text(self.frame,width=200)\n",
    "        \n",
    "        #add button \n",
    "        self.button_search = Button(self.frame,text = \"Search\",width = 10,command= self.getresult )\n",
    "        self.button_cancel = Button(self.frame,text = \"Cancel\",width = 10 )\n",
    "        \n",
    "        #grid them\n",
    "        self.label_loc.grid(row = 0,column = 8)\n",
    "        self.label_rad.grid(row = 1,column = 8)\n",
    "        self.label_pri.grid(row = 2,column = 8)\n",
    "        \n",
    "        self.entry_loc.grid(row = 0,column = 9)\n",
    "        self.entry_rad.grid(row = 1,column = 9)\n",
    "        self.entry_pri.grid(row = 2,column = 9)\n",
    "        \n",
    "        self.button_search.grid(row = 3,column = 8)\n",
    "        self.button_cancel.grid(row = 3,column = 9)\n",
    "        \n",
    "        self.text.grid(row=4,columnspan=20)\n",
    "        \n",
    "        self.frame= mainloop()\n",
    "\n",
    "frame = MainWindow()\n",
    "\n"
   ]
  },
  {
   "cell_type": "code",
   "execution_count": null,
   "metadata": {},
   "outputs": [],
   "source": []
  }
 ],
 "metadata": {
  "kernelspec": {
   "display_name": "Python 3",
   "language": "python",
   "name": "python3"
  },
  "language_info": {
   "codemirror_mode": {
    "name": "ipython",
    "version": 3
   },
   "file_extension": ".py",
   "mimetype": "text/x-python",
   "name": "python",
   "nbconvert_exporter": "python",
   "pygments_lexer": "ipython3",
   "version": "3.7.4"
  }
 },
 "nbformat": 4,
 "nbformat_minor": 2
}
